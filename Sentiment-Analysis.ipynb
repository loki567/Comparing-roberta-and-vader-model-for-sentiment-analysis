{
 "cells": [
  {
   "cell_type": "code",
   "execution_count": 1,
   "id": "1a4b2354-737b-4d05-9dc2-f003127cdbdf",
   "metadata": {},
   "outputs": [],
   "source": [
    "import pandas as pd\n",
    "import numpy as np\n",
    "import matplotlib.pyplot as plt\n",
    "import seaborn as sb\n",
    "from nltk.sentiment import SentimentIntensityAnalyzer\n",
    "from tqdm.notebook import tqdm"
   ]
  },
  {
   "cell_type": "code",
   "execution_count": 2,
   "id": "1cf42ec6-5963-4a70-b4a8-85e68f23eb61",
   "metadata": {},
   "outputs": [],
   "source": [
    "df = pd.read_csv('Reviews.csv')"
   ]
  },
  {
   "cell_type": "code",
   "execution_count": 3,
   "id": "7dc32627-ae8d-40b3-a403-15b13037a944",
   "metadata": {},
   "outputs": [],
   "source": [
    "df = df.head(500)"
   ]
  },
  {
   "cell_type": "code",
   "execution_count": 4,
   "id": "d14bce6b-843f-45ac-80f6-436455ade9cd",
   "metadata": {},
   "outputs": [
    {
     "data": {
      "text/html": [
       "<div>\n",
       "<style scoped>\n",
       "    .dataframe tbody tr th:only-of-type {\n",
       "        vertical-align: middle;\n",
       "    }\n",
       "\n",
       "    .dataframe tbody tr th {\n",
       "        vertical-align: top;\n",
       "    }\n",
       "\n",
       "    .dataframe thead th {\n",
       "        text-align: right;\n",
       "    }\n",
       "</style>\n",
       "<table border=\"1\" class=\"dataframe\">\n",
       "  <thead>\n",
       "    <tr style=\"text-align: right;\">\n",
       "      <th></th>\n",
       "      <th>Id</th>\n",
       "      <th>ProductId</th>\n",
       "      <th>UserId</th>\n",
       "      <th>ProfileName</th>\n",
       "      <th>HelpfulnessNumerator</th>\n",
       "      <th>HelpfulnessDenominator</th>\n",
       "      <th>Score</th>\n",
       "      <th>Time</th>\n",
       "      <th>Summary</th>\n",
       "      <th>Text</th>\n",
       "    </tr>\n",
       "  </thead>\n",
       "  <tbody>\n",
       "    <tr>\n",
       "      <th>0</th>\n",
       "      <td>1</td>\n",
       "      <td>B001E4KFG0</td>\n",
       "      <td>A3SGXH7AUHU8GW</td>\n",
       "      <td>delmartian</td>\n",
       "      <td>1</td>\n",
       "      <td>1</td>\n",
       "      <td>5</td>\n",
       "      <td>1303862400</td>\n",
       "      <td>Good Quality Dog Food</td>\n",
       "      <td>I have bought several of the Vitality canned d...</td>\n",
       "    </tr>\n",
       "    <tr>\n",
       "      <th>1</th>\n",
       "      <td>2</td>\n",
       "      <td>B00813GRG4</td>\n",
       "      <td>A1D87F6ZCVE5NK</td>\n",
       "      <td>dll pa</td>\n",
       "      <td>0</td>\n",
       "      <td>0</td>\n",
       "      <td>1</td>\n",
       "      <td>1346976000</td>\n",
       "      <td>Not as Advertised</td>\n",
       "      <td>Product arrived labeled as Jumbo Salted Peanut...</td>\n",
       "    </tr>\n",
       "    <tr>\n",
       "      <th>2</th>\n",
       "      <td>3</td>\n",
       "      <td>B000LQOCH0</td>\n",
       "      <td>ABXLMWJIXXAIN</td>\n",
       "      <td>Natalia Corres \"Natalia Corres\"</td>\n",
       "      <td>1</td>\n",
       "      <td>1</td>\n",
       "      <td>4</td>\n",
       "      <td>1219017600</td>\n",
       "      <td>\"Delight\" says it all</td>\n",
       "      <td>This is a confection that has been around a fe...</td>\n",
       "    </tr>\n",
       "    <tr>\n",
       "      <th>3</th>\n",
       "      <td>4</td>\n",
       "      <td>B000UA0QIQ</td>\n",
       "      <td>A395BORC6FGVXV</td>\n",
       "      <td>Karl</td>\n",
       "      <td>3</td>\n",
       "      <td>3</td>\n",
       "      <td>2</td>\n",
       "      <td>1307923200</td>\n",
       "      <td>Cough Medicine</td>\n",
       "      <td>If you are looking for the secret ingredient i...</td>\n",
       "    </tr>\n",
       "    <tr>\n",
       "      <th>4</th>\n",
       "      <td>5</td>\n",
       "      <td>B006K2ZZ7K</td>\n",
       "      <td>A1UQRSCLF8GW1T</td>\n",
       "      <td>Michael D. Bigham \"M. Wassir\"</td>\n",
       "      <td>0</td>\n",
       "      <td>0</td>\n",
       "      <td>5</td>\n",
       "      <td>1350777600</td>\n",
       "      <td>Great taffy</td>\n",
       "      <td>Great taffy at a great price.  There was a wid...</td>\n",
       "    </tr>\n",
       "  </tbody>\n",
       "</table>\n",
       "</div>"
      ],
      "text/plain": [
       "   Id   ProductId          UserId                      ProfileName  \\\n",
       "0   1  B001E4KFG0  A3SGXH7AUHU8GW                       delmartian   \n",
       "1   2  B00813GRG4  A1D87F6ZCVE5NK                           dll pa   \n",
       "2   3  B000LQOCH0   ABXLMWJIXXAIN  Natalia Corres \"Natalia Corres\"   \n",
       "3   4  B000UA0QIQ  A395BORC6FGVXV                             Karl   \n",
       "4   5  B006K2ZZ7K  A1UQRSCLF8GW1T    Michael D. Bigham \"M. Wassir\"   \n",
       "\n",
       "   HelpfulnessNumerator  HelpfulnessDenominator  Score        Time  \\\n",
       "0                     1                       1      5  1303862400   \n",
       "1                     0                       0      1  1346976000   \n",
       "2                     1                       1      4  1219017600   \n",
       "3                     3                       3      2  1307923200   \n",
       "4                     0                       0      5  1350777600   \n",
       "\n",
       "                 Summary                                               Text  \n",
       "0  Good Quality Dog Food  I have bought several of the Vitality canned d...  \n",
       "1      Not as Advertised  Product arrived labeled as Jumbo Salted Peanut...  \n",
       "2  \"Delight\" says it all  This is a confection that has been around a fe...  \n",
       "3         Cough Medicine  If you are looking for the secret ingredient i...  \n",
       "4            Great taffy  Great taffy at a great price.  There was a wid...  "
      ]
     },
     "execution_count": 4,
     "metadata": {},
     "output_type": "execute_result"
    }
   ],
   "source": [
    "df.head()"
   ]
  },
  {
   "cell_type": "code",
   "execution_count": 5,
   "id": "ff74de83-2682-4349-bb1d-b09432614266",
   "metadata": {},
   "outputs": [
    {
     "data": {
      "image/png": "[encoded data removed]",
      "text/plain": [
       "<Figure size 500x300 with 1 Axes>"
      ]
     },
     "metadata": {},
     "output_type": "display_data"
    }
   ],
   "source": [
    "df['Score'].value_counts().sort_index().plot(kind='bar', figsize=(5,3), title='Count of reviews by stars',xlabel='Stars');"
   ]
  },
  {
   "cell_type": "code",
   "execution_count": 6,
   "id": "e01bb274-4ba2-473f-99af-57fbd0feacb4",
   "metadata": {},
   "outputs": [],
   "source": [
    "sia = SentimentIntensityAnalyzer()"
   ]
  },
  {
   "cell_type": "code",
   "execution_count": 7,
   "id": "f986682a-2580-405b-9a67-84dccbcfde45",
   "metadata": {},
   "outputs": [],
   "source": [
    "example = df['Text'][50]"
   ]
  },
  {
   "cell_type": "code",
   "execution_count": 8,
   "id": "6a941574-9886-4c34-842a-e54dc6267e97",
   "metadata": {},
   "outputs": [
    {
     "data": {
      "text/plain": [
       "\"This oatmeal is not good. Its mushy, soft, I don't like it. Quaker Oats is the way to go.\""
      ]
     },
     "execution_count": 8,
     "metadata": {},
     "output_type": "execute_result"
    }
   ],
   "source": [
    "example"
   ]
  },
  {
   "cell_type": "code",
   "execution_count": 9,
   "id": "e108f78b-8d60-4356-b4c2-5d2561e4331c",
   "metadata": {},
   "outputs": [],
   "source": [
    "polarity_scores = sia.polarity_scores(example)"
   ]
  },
  {
   "cell_type": "code",
   "execution_count": 10,
   "id": "810bdead-820d-4f73-a238-a4973d499eda",
   "metadata": {},
   "outputs": [
    {
     "data": {
      "text/plain": [
       "{'neg': 0.22, 'neu': 0.78, 'pos': 0.0, 'compound': -0.5448}"
      ]
     },
     "execution_count": 10,
     "metadata": {},
     "output_type": "execute_result"
    }
   ],
   "source": [
    "polarity_scores"
   ]
  },
  {
   "cell_type": "code",
   "execution_count": 11,
   "id": "c95727f9-4402-49fe-abaf-b6e9c6e70cf6",
   "metadata": {},
   "outputs": [
    {
     "data": {
      "application/vnd.jupyter.widget-view+json": {
       "model_id": "a067879dba34444694838944cc9975f1",
       "version_major": 2,
       "version_minor": 0
      },
      "text/plain": [
       "  0%|          | 0/500 [00:00<?, ?it/s]"
      ]
     },
     "metadata": {},
     "output_type": "display_data"
    }
   ],
   "source": [
    "res = {}\n",
    "for i, row in tqdm(df.iterrows(), total=len(df)):\n",
    "    text = row['Text']\n",
    "    myid = row['Id']\n",
    "    pol_scores = sia.polarity_scores(text)\n",
    "    res[myid] = pol_scores                              "
   ]
  },
  {
   "cell_type": "code",
   "execution_count": 12,
   "id": "b41be590-d04a-4d02-853f-80ab5cb1069d",
   "metadata": {},
   "outputs": [],
   "source": [
    "vaders = pd.DataFrame(res).T\n",
    "vaders = vaders.reset_index().rename(columns={'index':'Id'})\n",
    "vaders = vaders.merge(df,how='left')"
   ]
  },
  {
   "cell_type": "code",
   "execution_count": 13,
   "id": "b3d4d4e6-70ce-4ddd-856f-28b49754da69",
   "metadata": {},
   "outputs": [
    {
     "data": {
      "image/png": "[encoded data removed]",
      "text/plain": [
       "<Figure size 500x400 with 1 Axes>"
      ]
     },
     "metadata": {},
     "output_type": "display_data"
    }
   ],
   "source": [
    "plt.figure(figsize=(5,4));\n",
    "sb.barplot(data=vaders, x='Score', y='compound');"
   ]
  },
  {
   "cell_type": "code",
   "execution_count": 14,
   "id": "b6a329e9-7f53-472d-b2b6-c21b44ba936b",
   "metadata": {},
   "outputs": [
    {
     "data": {
      "image/png": "[encoded data removed]",
      "text/plain": [
       "<Figure size 1200x300 with 3 Axes>"
      ]
     },
     "metadata": {},
     "output_type": "display_data"
    }
   ],
   "source": [
    "fig, axis = plt.subplots(1,3,figsize=(12,3))\n",
    "sb.barplot(data=vaders,x='Score',y='pos',ax=axis[0])\n",
    "sb.barplot(data=vaders,x='Score',y='neu',ax=axis[1])\n",
    "sb.barplot(data=vaders,x='Score',y='neg',ax=axis[2])\n",
    "axis[0].set_title('positive')\n",
    "axis[1].set_title('neutral')\n",
    "axis[2].set_title('negative')\n",
    "plt.tight_layout()\n",
    "plt.show()"
   ]
  },
  {
   "cell_type": "code",
   "execution_count": 15,
   "id": "50c94812-bcbf-4d1e-97c6-5e536ae337fc",
   "metadata": {},
   "outputs": [],
   "source": [
    "from transformers import AutoTokenizer\n",
    "from transformers import AutoModelForSequenceClassification\n",
    "from scipy.special import softmax"
   ]
  },
  {
   "cell_type": "code",
   "execution_count": 16,
   "id": "27e8b8d6-a57d-479d-8ed0-2084f6916aff",
   "metadata": {},
   "outputs": [],
   "source": [
    "MODEL = f\"cardiffnlp/twitter-roberta-base-sentiment\"\n",
    "tokenizer = AutoTokenizer.from_pretrained(MODEL)\n",
    "model = AutoModelForSequenceClassification.from_pretrained(MODEL)       "
   ]
  },
  {
   "cell_type": "code",
   "execution_count": 17,
   "id": "e42f0e23-0591-4d09-aa5f-3989c7f06802",
   "metadata": {},
   "outputs": [
    {
     "data": {
      "text/plain": [
       "{'neg': 0.22, 'neu': 0.78, 'pos': 0.0, 'compound': -0.5448}"
      ]
     },
     "execution_count": 17,
     "metadata": {},
     "output_type": "execute_result"
    }
   ],
   "source": [
    "x = sia.polarity_scores(example)\n",
    "x"
   ]
  },
  {
   "cell_type": "code",
   "execution_count": 18,
   "id": "2efe415d-2c54-4d4d-bd27-89114c5a69d2",
   "metadata": {
    "tags": []
   },
   "outputs": [],
   "source": [
    "vector = tokenizer(example,return_tensors='pt')"
   ]
  },
  {
   "cell_type": "code",
   "execution_count": 19,
   "id": "7d57e1c7-f8c3-4e2d-a1db-331554a69b6d",
   "metadata": {},
   "outputs": [],
   "source": [
    "def roberta_polarity_score(text):\n",
    "    vector = tokenizer(text,return_tensors='pt')\n",
    "    output = model(**vector)\n",
    "    scores = output[0][0].detach().numpy()\n",
    "    scores = softmax(scores)\n",
    "    scores_dict = {\n",
    "        'roberta_neg':scores[0],\n",
    "        'roberta_neu':scores[1],\n",
    "        'roberta_pos':scores[2]\n",
    "    }\n",
    "    return scores_dict"
   ]
  },
  {
   "cell_type": "code",
   "execution_count": 24,
   "id": "e27fb56c-9d79-464e-a96d-9a427ef8d38c",
   "metadata": {
    "tags": []
   },
   "outputs": [
    {
     "data": {
      "application/vnd.jupyter.widget-view+json": {
       "model_id": "9d3d812776464a8fac6895b3797eec95",
       "version_major": 2,
       "version_minor": 0
      },
      "text/plain": [
       "  0%|          | 0/500 [00:00<?, ?it/s]"
      ]
     },
     "metadata": {},
     "output_type": "display_data"
    },
    {
     "name": "stdout",
     "output_type": "stream",
     "text": [
      "Cannot process 83\n",
      "Cannot process 187\n"
     ]
    }
   ],
   "source": [
    "res = {}\n",
    "\n",
    "for i, row in tqdm(df.iterrows(), total=len(df)):\n",
    "    try:\n",
    "        text = row['Text']\n",
    "        myid = row['Id']\n",
    "        vader_scores = sia.polarity_scores(text)\n",
    "        vader_scores_rename = {}\n",
    "        for key,value in vader_scores.items():\n",
    "            vader_scores_rename[f\"vader_{key}\"] = value\n",
    "        roberta_scores = roberta_polarity_score(text)\n",
    "        combined = {**vader_scores_rename,**roberta_scores}\n",
    "        res[myid] = combined\n",
    "    except RuntimeError:\n",
    "        print(f'Cannot process {myid}')"
   ]
  },
  {
   "cell_type": "code",
   "execution_count": 31,
   "id": "a819ee7e-376d-4593-90a3-f927bdb7b3ee",
   "metadata": {},
   "outputs": [],
   "source": [
    "results = pd.DataFrame(res).T\n",
    "results = results.reset_index().rename(columns={'index':'Id'})\n",
    "results = results.merge(df,how='left')                            "
   ]
  },
  {
   "cell_type": "code",
   "execution_count": 32,
   "id": "040bea80-5a7e-4e74-8c59-2d54ec8438bc",
   "metadata": {},
   "outputs": [
    {
     "data": {
      "text/html": [
       "<div>\n",
       "<style scoped>\n",
       "    .dataframe tbody tr th:only-of-type {\n",
       "        vertical-align: middle;\n",
       "    }\n",
       "\n",
       "    .dataframe tbody tr th {\n",
       "        vertical-align: top;\n",
       "    }\n",
       "\n",
       "    .dataframe thead th {\n",
       "        text-align: right;\n",
       "    }\n",
       "</style>\n",
       "<table border=\"1\" class=\"dataframe\">\n",
       "  <thead>\n",
       "    <tr style=\"text-align: right;\">\n",
       "      <th></th>\n",
       "      <th>Id</th>\n",
       "      <th>vader_neg</th>\n",
       "      <th>vader_neu</th>\n",
       "      <th>vader_pos</th>\n",
       "      <th>vader_compound</th>\n",
       "      <th>roberta_neg</th>\n",
       "      <th>roberta_neu</th>\n",
       "      <th>roberta_pos</th>\n",
       "      <th>ProductId</th>\n",
       "      <th>UserId</th>\n",
       "      <th>ProfileName</th>\n",
       "      <th>HelpfulnessNumerator</th>\n",
       "      <th>HelpfulnessDenominator</th>\n",
       "      <th>Score</th>\n",
       "      <th>Time</th>\n",
       "      <th>Summary</th>\n",
       "      <th>Text</th>\n",
       "    </tr>\n",
       "  </thead>\n",
       "  <tbody>\n",
       "    <tr>\n",
       "      <th>0</th>\n",
       "      <td>1</td>\n",
       "      <td>0.000</td>\n",
       "      <td>0.695</td>\n",
       "      <td>0.305</td>\n",
       "      <td>0.9441</td>\n",
       "      <td>0.009624</td>\n",
       "      <td>0.049980</td>\n",
       "      <td>0.940395</td>\n",
       "      <td>B001E4KFG0</td>\n",
       "      <td>A3SGXH7AUHU8GW</td>\n",
       "      <td>delmartian</td>\n",
       "      <td>1</td>\n",
       "      <td>1</td>\n",
       "      <td>5</td>\n",
       "      <td>1303862400</td>\n",
       "      <td>Good Quality Dog Food</td>\n",
       "      <td>I have bought several of the Vitality canned d...</td>\n",
       "    </tr>\n",
       "    <tr>\n",
       "      <th>1</th>\n",
       "      <td>2</td>\n",
       "      <td>0.138</td>\n",
       "      <td>0.862</td>\n",
       "      <td>0.000</td>\n",
       "      <td>-0.5664</td>\n",
       "      <td>0.508986</td>\n",
       "      <td>0.452413</td>\n",
       "      <td>0.038600</td>\n",
       "      <td>B00813GRG4</td>\n",
       "      <td>A1D87F6ZCVE5NK</td>\n",
       "      <td>dll pa</td>\n",
       "      <td>0</td>\n",
       "      <td>0</td>\n",
       "      <td>1</td>\n",
       "      <td>1346976000</td>\n",
       "      <td>Not as Advertised</td>\n",
       "      <td>Product arrived labeled as Jumbo Salted Peanut...</td>\n",
       "    </tr>\n",
       "    <tr>\n",
       "      <th>2</th>\n",
       "      <td>3</td>\n",
       "      <td>0.091</td>\n",
       "      <td>0.754</td>\n",
       "      <td>0.155</td>\n",
       "      <td>0.8265</td>\n",
       "      <td>0.003229</td>\n",
       "      <td>0.098067</td>\n",
       "      <td>0.898704</td>\n",
       "      <td>B000LQOCH0</td>\n",
       "      <td>ABXLMWJIXXAIN</td>\n",
       "      <td>Natalia Corres \"Natalia Corres\"</td>\n",
       "      <td>1</td>\n",
       "      <td>1</td>\n",
       "      <td>4</td>\n",
       "      <td>1219017600</td>\n",
       "      <td>\"Delight\" says it all</td>\n",
       "      <td>This is a confection that has been around a fe...</td>\n",
       "    </tr>\n",
       "    <tr>\n",
       "      <th>3</th>\n",
       "      <td>4</td>\n",
       "      <td>0.000</td>\n",
       "      <td>1.000</td>\n",
       "      <td>0.000</td>\n",
       "      <td>0.0000</td>\n",
       "      <td>0.002295</td>\n",
       "      <td>0.090219</td>\n",
       "      <td>0.907486</td>\n",
       "      <td>B000UA0QIQ</td>\n",
       "      <td>A395BORC6FGVXV</td>\n",
       "      <td>Karl</td>\n",
       "      <td>3</td>\n",
       "      <td>3</td>\n",
       "      <td>2</td>\n",
       "      <td>1307923200</td>\n",
       "      <td>Cough Medicine</td>\n",
       "      <td>If you are looking for the secret ingredient i...</td>\n",
       "    </tr>\n",
       "    <tr>\n",
       "      <th>4</th>\n",
       "      <td>5</td>\n",
       "      <td>0.000</td>\n",
       "      <td>0.552</td>\n",
       "      <td>0.448</td>\n",
       "      <td>0.9468</td>\n",
       "      <td>0.001635</td>\n",
       "      <td>0.010302</td>\n",
       "      <td>0.988063</td>\n",
       "      <td>B006K2ZZ7K</td>\n",
       "      <td>A1UQRSCLF8GW1T</td>\n",
       "      <td>Michael D. Bigham \"M. Wassir\"</td>\n",
       "      <td>0</td>\n",
       "      <td>0</td>\n",
       "      <td>5</td>\n",
       "      <td>1350777600</td>\n",
       "      <td>Great taffy</td>\n",
       "      <td>Great taffy at a great price.  There was a wid...</td>\n",
       "    </tr>\n",
       "    <tr>\n",
       "      <th>...</th>\n",
       "      <td>...</td>\n",
       "      <td>...</td>\n",
       "      <td>...</td>\n",
       "      <td>...</td>\n",
       "      <td>...</td>\n",
       "      <td>...</td>\n",
       "      <td>...</td>\n",
       "      <td>...</td>\n",
       "      <td>...</td>\n",
       "      <td>...</td>\n",
       "      <td>...</td>\n",
       "      <td>...</td>\n",
       "      <td>...</td>\n",
       "      <td>...</td>\n",
       "      <td>...</td>\n",
       "      <td>...</td>\n",
       "      <td>...</td>\n",
       "    </tr>\n",
       "    <tr>\n",
       "      <th>493</th>\n",
       "      <td>496</td>\n",
       "      <td>0.000</td>\n",
       "      <td>0.554</td>\n",
       "      <td>0.446</td>\n",
       "      <td>0.9725</td>\n",
       "      <td>0.001906</td>\n",
       "      <td>0.009862</td>\n",
       "      <td>0.988232</td>\n",
       "      <td>B000G6RYNE</td>\n",
       "      <td>APGAA43E3WPN7</td>\n",
       "      <td>Darren</td>\n",
       "      <td>0</td>\n",
       "      <td>0</td>\n",
       "      <td>5</td>\n",
       "      <td>1201392000</td>\n",
       "      <td>amazing chips</td>\n",
       "      <td>i rarely eat chips but i saw these and tried t...</td>\n",
       "    </tr>\n",
       "    <tr>\n",
       "      <th>494</th>\n",
       "      <td>497</td>\n",
       "      <td>0.059</td>\n",
       "      <td>0.799</td>\n",
       "      <td>0.142</td>\n",
       "      <td>0.7833</td>\n",
       "      <td>0.004415</td>\n",
       "      <td>0.034215</td>\n",
       "      <td>0.961369</td>\n",
       "      <td>B000G6RYNE</td>\n",
       "      <td>ABR7HU5H1KNE</td>\n",
       "      <td>Keith</td>\n",
       "      <td>0</td>\n",
       "      <td>0</td>\n",
       "      <td>5</td>\n",
       "      <td>1196726400</td>\n",
       "      <td>Best Chip Ever</td>\n",
       "      <td>This is easily the best potato chip that I hav...</td>\n",
       "    </tr>\n",
       "    <tr>\n",
       "      <th>495</th>\n",
       "      <td>498</td>\n",
       "      <td>0.025</td>\n",
       "      <td>0.762</td>\n",
       "      <td>0.212</td>\n",
       "      <td>0.9848</td>\n",
       "      <td>0.006427</td>\n",
       "      <td>0.074537</td>\n",
       "      <td>0.919036</td>\n",
       "      <td>B000G6RYNE</td>\n",
       "      <td>AJQD2WWJYOYFQ</td>\n",
       "      <td>bubbles</td>\n",
       "      <td>0</td>\n",
       "      <td>0</td>\n",
       "      <td>4</td>\n",
       "      <td>1186617600</td>\n",
       "      <td>Tangy, spicy, and sweet- oh my!</td>\n",
       "      <td>Kettle Chips Spicy Thai potato chips have the ...</td>\n",
       "    </tr>\n",
       "    <tr>\n",
       "      <th>496</th>\n",
       "      <td>499</td>\n",
       "      <td>0.041</td>\n",
       "      <td>0.904</td>\n",
       "      <td>0.055</td>\n",
       "      <td>0.1280</td>\n",
       "      <td>0.865614</td>\n",
       "      <td>0.119366</td>\n",
       "      <td>0.015020</td>\n",
       "      <td>B000G6RYNE</td>\n",
       "      <td>A16YH487W9ZYO0</td>\n",
       "      <td>Bruce G. Lindsay</td>\n",
       "      <td>0</td>\n",
       "      <td>0</td>\n",
       "      <td>4</td>\n",
       "      <td>1184198400</td>\n",
       "      <td>An indulgence with a bite</td>\n",
       "      <td>Okay, I should not eat potato chips, nor shoul...</td>\n",
       "    </tr>\n",
       "    <tr>\n",
       "      <th>497</th>\n",
       "      <td>500</td>\n",
       "      <td>0.000</td>\n",
       "      <td>0.678</td>\n",
       "      <td>0.322</td>\n",
       "      <td>0.9811</td>\n",
       "      <td>0.002440</td>\n",
       "      <td>0.011327</td>\n",
       "      <td>0.986233</td>\n",
       "      <td>B000G6RYNE</td>\n",
       "      <td>A83YQC1XOU4CS</td>\n",
       "      <td>J. Baker</td>\n",
       "      <td>0</td>\n",
       "      <td>0</td>\n",
       "      <td>5</td>\n",
       "      <td>1183420800</td>\n",
       "      <td>The best I've had</td>\n",
       "      <td>I don't write very many reviews but I have to ...</td>\n",
       "    </tr>\n",
       "  </tbody>\n",
       "</table>\n",
       "<p>498 rows × 17 columns</p>\n",
       "</div>"
      ],
      "text/plain": [
       "      Id  vader_neg  vader_neu  vader_pos  vader_compound  roberta_neg  \\\n",
       "0      1      0.000      0.695      0.305          0.9441     0.009624   \n",
       "1      2      0.138      0.862      0.000         -0.5664     0.508986   \n",
       "2      3      0.091      0.754      0.155          0.8265     0.003229   \n",
       "3      4      0.000      1.000      0.000          0.0000     0.002295   \n",
       "4      5      0.000      0.552      0.448          0.9468     0.001635   \n",
       "..   ...        ...        ...        ...             ...          ...   \n",
       "493  496      0.000      0.554      0.446          0.9725     0.001906   \n",
       "494  497      0.059      0.799      0.142          0.7833     0.004415   \n",
       "495  498      0.025      0.762      0.212          0.9848     0.006427   \n",
       "496  499      0.041      0.904      0.055          0.1280     0.865614   \n",
       "497  500      0.000      0.678      0.322          0.9811     0.002440   \n",
       "\n",
       "     roberta_neu  roberta_pos   ProductId          UserId  \\\n",
       "0       0.049980     0.940395  B001E4KFG0  A3SGXH7AUHU8GW   \n",
       "1       0.452413     0.038600  B00813GRG4  A1D87F6ZCVE5NK   \n",
       "2       0.098067     0.898704  B000LQOCH0   ABXLMWJIXXAIN   \n",
       "3       0.090219     0.907486  B000UA0QIQ  A395BORC6FGVXV   \n",
       "4       0.010302     0.988063  B006K2ZZ7K  A1UQRSCLF8GW1T   \n",
       "..           ...          ...         ...             ...   \n",
       "493     0.009862     0.988232  B000G6RYNE   APGAA43E3WPN7   \n",
       "494     0.034215     0.961369  B000G6RYNE    ABR7HU5H1KNE   \n",
       "495     0.074537     0.919036  B000G6RYNE   AJQD2WWJYOYFQ   \n",
       "496     0.119366     0.015020  B000G6RYNE  A16YH487W9ZYO0   \n",
       "497     0.011327     0.986233  B000G6RYNE   A83YQC1XOU4CS   \n",
       "\n",
       "                         ProfileName  HelpfulnessNumerator  \\\n",
       "0                         delmartian                     1   \n",
       "1                             dll pa                     0   \n",
       "2    Natalia Corres \"Natalia Corres\"                     1   \n",
       "3                               Karl                     3   \n",
       "4      Michael D. Bigham \"M. Wassir\"                     0   \n",
       "..                               ...                   ...   \n",
       "493                           Darren                     0   \n",
       "494                            Keith                     0   \n",
       "495                          bubbles                     0   \n",
       "496                 Bruce G. Lindsay                     0   \n",
       "497                         J. Baker                     0   \n",
       "\n",
       "     HelpfulnessDenominator  Score        Time  \\\n",
       "0                         1      5  1303862400   \n",
       "1                         0      1  1346976000   \n",
       "2                         1      4  1219017600   \n",
       "3                         3      2  1307923200   \n",
       "4                         0      5  1350777600   \n",
       "..                      ...    ...         ...   \n",
       "493                       0      5  1201392000   \n",
       "494                       0      5  1196726400   \n",
       "495                       0      4  1186617600   \n",
       "496                       0      4  1184198400   \n",
       "497                       0      5  1183420800   \n",
       "\n",
       "                             Summary  \\\n",
       "0              Good Quality Dog Food   \n",
       "1                  Not as Advertised   \n",
       "2              \"Delight\" says it all   \n",
       "3                     Cough Medicine   \n",
       "4                        Great taffy   \n",
       "..                               ...   \n",
       "493                    amazing chips   \n",
       "494                   Best Chip Ever   \n",
       "495  Tangy, spicy, and sweet- oh my!   \n",
       "496        An indulgence with a bite   \n",
       "497                The best I've had   \n",
       "\n",
       "                                                  Text  \n",
       "0    I have bought several of the Vitality canned d...  \n",
       "1    Product arrived labeled as Jumbo Salted Peanut...  \n",
       "2    This is a confection that has been around a fe...  \n",
       "3    If you are looking for the secret ingredient i...  \n",
       "4    Great taffy at a great price.  There was a wid...  \n",
       "..                                                 ...  \n",
       "493  i rarely eat chips but i saw these and tried t...  \n",
       "494  This is easily the best potato chip that I hav...  \n",
       "495  Kettle Chips Spicy Thai potato chips have the ...  \n",
       "496  Okay, I should not eat potato chips, nor shoul...  \n",
       "497  I don't write very many reviews but I have to ...  \n",
       "\n",
       "[498 rows x 17 columns]"
      ]
     },
     "execution_count": 32,
     "metadata": {},
     "output_type": "execute_result"
    }
   ],
   "source": [
    "results"
   ]
  },
  {
   "cell_type": "code",
   "execution_count": 35,
   "id": "f945163e-547c-45b0-b8f7-78854e224971",
   "metadata": {},
   "outputs": [
    {
     "data": {
      "image/png": "[encoded data removed]",
      "text/plain": [
       "<Figure size 700x300 with 2 Axes>"
      ]
     },
     "metadata": {},
     "output_type": "display_data"
    }
   ],
   "source": [
    "fig, axis = plt.subplots(1,2,figsize=(7,3))\n",
    "sb.barplot(data=results,x='Score',y='roberta_pos',ax=axis[0])\n",
    "sb.barplot(data=results,x='Score',y='vader_pos',ax=axis[1])\n",
    "axis[0].set_title('Roberta_pos')\n",
    "axis[1].set_title('Vader_pos')\n",
    "plt.tight_layout()\n",
    "plt.show()"
   ]
  },
  {
   "cell_type": "code",
   "execution_count": 40,
   "id": "e2447f0f-4dfb-4d3d-9cf2-516cc6337657",
   "metadata": {},
   "outputs": [
    {
     "data": {
      "image/png": "[encoded data removed]",
      "text/plain": [
       "<Figure size 700x300 with 2 Axes>"
      ]
     },
     "metadata": {},
     "output_type": "display_data"
    }
   ],
   "source": [
    "fig, axis = plt.subplots(1,2,figsize=(7,3))\n",
    "sb.barplot(data=results,x='Score',y='roberta_neg',ax=axis[0])\n",
    "sb.barplot(data=results,x='Score',y='vader_neg',ax=axis[1])\n",
    "axis[0].set_title('Roberta_neg')\n",
    "axis[1].set_title('Vader_neg')\n",
    "plt.tight_layout()\n",
    "plt.show()"
   ]
  },
  {
   "cell_type": "code",
   "execution_count": 50,
   "id": "f4e405a2-29d3-4138-a64e-76a0998bbac0",
   "metadata": {},
   "outputs": [
    {
     "data": {
      "text/html": [
       "<div>\n",
       "<style scoped>\n",
       "    .dataframe tbody tr th:only-of-type {\n",
       "        vertical-align: middle;\n",
       "    }\n",
       "\n",
       "    .dataframe tbody tr th {\n",
       "        vertical-align: top;\n",
       "    }\n",
       "\n",
       "    .dataframe thead th {\n",
       "        text-align: right;\n",
       "    }\n",
       "</style>\n",
       "<table border=\"1\" class=\"dataframe\">\n",
       "  <thead>\n",
       "    <tr style=\"text-align: right;\">\n",
       "      <th></th>\n",
       "      <th>Id</th>\n",
       "      <th>vader_neg</th>\n",
       "      <th>vader_neu</th>\n",
       "      <th>vader_pos</th>\n",
       "      <th>vader_compound</th>\n",
       "      <th>roberta_neg</th>\n",
       "      <th>roberta_neu</th>\n",
       "      <th>roberta_pos</th>\n",
       "      <th>ProductId</th>\n",
       "      <th>UserId</th>\n",
       "      <th>ProfileName</th>\n",
       "      <th>HelpfulnessNumerator</th>\n",
       "      <th>HelpfulnessDenominator</th>\n",
       "      <th>Score</th>\n",
       "      <th>Time</th>\n",
       "      <th>Summary</th>\n",
       "      <th>Text</th>\n",
       "    </tr>\n",
       "  </thead>\n",
       "  <tbody>\n",
       "    <tr>\n",
       "      <th>0</th>\n",
       "      <td>1</td>\n",
       "      <td>0.000</td>\n",
       "      <td>0.695</td>\n",
       "      <td>0.305</td>\n",
       "      <td>0.9441</td>\n",
       "      <td>0.009624</td>\n",
       "      <td>0.049980</td>\n",
       "      <td>0.940395</td>\n",
       "      <td>B001E4KFG0</td>\n",
       "      <td>A3SGXH7AUHU8GW</td>\n",
       "      <td>delmartian</td>\n",
       "      <td>1</td>\n",
       "      <td>1</td>\n",
       "      <td>5</td>\n",
       "      <td>1303862400</td>\n",
       "      <td>Good Quality Dog Food</td>\n",
       "      <td>I have bought several of the Vitality canned d...</td>\n",
       "    </tr>\n",
       "    <tr>\n",
       "      <th>1</th>\n",
       "      <td>2</td>\n",
       "      <td>0.138</td>\n",
       "      <td>0.862</td>\n",
       "      <td>0.000</td>\n",
       "      <td>-0.5664</td>\n",
       "      <td>0.508986</td>\n",
       "      <td>0.452413</td>\n",
       "      <td>0.038600</td>\n",
       "      <td>B00813GRG4</td>\n",
       "      <td>A1D87F6ZCVE5NK</td>\n",
       "      <td>dll pa</td>\n",
       "      <td>0</td>\n",
       "      <td>0</td>\n",
       "      <td>1</td>\n",
       "      <td>1346976000</td>\n",
       "      <td>Not as Advertised</td>\n",
       "      <td>Product arrived labeled as Jumbo Salted Peanut...</td>\n",
       "    </tr>\n",
       "    <tr>\n",
       "      <th>2</th>\n",
       "      <td>3</td>\n",
       "      <td>0.091</td>\n",
       "      <td>0.754</td>\n",
       "      <td>0.155</td>\n",
       "      <td>0.8265</td>\n",
       "      <td>0.003229</td>\n",
       "      <td>0.098067</td>\n",
       "      <td>0.898704</td>\n",
       "      <td>B000LQOCH0</td>\n",
       "      <td>ABXLMWJIXXAIN</td>\n",
       "      <td>Natalia Corres \"Natalia Corres\"</td>\n",
       "      <td>1</td>\n",
       "      <td>1</td>\n",
       "      <td>4</td>\n",
       "      <td>1219017600</td>\n",
       "      <td>\"Delight\" says it all</td>\n",
       "      <td>This is a confection that has been around a fe...</td>\n",
       "    </tr>\n",
       "    <tr>\n",
       "      <th>3</th>\n",
       "      <td>4</td>\n",
       "      <td>0.000</td>\n",
       "      <td>1.000</td>\n",
       "      <td>0.000</td>\n",
       "      <td>0.0000</td>\n",
       "      <td>0.002295</td>\n",
       "      <td>0.090219</td>\n",
       "      <td>0.907486</td>\n",
       "      <td>B000UA0QIQ</td>\n",
       "      <td>A395BORC6FGVXV</td>\n",
       "      <td>Karl</td>\n",
       "      <td>3</td>\n",
       "      <td>3</td>\n",
       "      <td>2</td>\n",
       "      <td>1307923200</td>\n",
       "      <td>Cough Medicine</td>\n",
       "      <td>If you are looking for the secret ingredient i...</td>\n",
       "    </tr>\n",
       "    <tr>\n",
       "      <th>4</th>\n",
       "      <td>5</td>\n",
       "      <td>0.000</td>\n",
       "      <td>0.552</td>\n",
       "      <td>0.448</td>\n",
       "      <td>0.9468</td>\n",
       "      <td>0.001635</td>\n",
       "      <td>0.010302</td>\n",
       "      <td>0.988063</td>\n",
       "      <td>B006K2ZZ7K</td>\n",
       "      <td>A1UQRSCLF8GW1T</td>\n",
       "      <td>Michael D. Bigham \"M. Wassir\"</td>\n",
       "      <td>0</td>\n",
       "      <td>0</td>\n",
       "      <td>5</td>\n",
       "      <td>1350777600</td>\n",
       "      <td>Great taffy</td>\n",
       "      <td>Great taffy at a great price.  There was a wid...</td>\n",
       "    </tr>\n",
       "  </tbody>\n",
       "</table>\n",
       "</div>"
      ],
      "text/plain": [
       "   Id  vader_neg  vader_neu  vader_pos  vader_compound  roberta_neg  \\\n",
       "0   1      0.000      0.695      0.305          0.9441     0.009624   \n",
       "1   2      0.138      0.862      0.000         -0.5664     0.508986   \n",
       "2   3      0.091      0.754      0.155          0.8265     0.003229   \n",
       "3   4      0.000      1.000      0.000          0.0000     0.002295   \n",
       "4   5      0.000      0.552      0.448          0.9468     0.001635   \n",
       "\n",
       "   roberta_neu  roberta_pos   ProductId          UserId  \\\n",
       "0     0.049980     0.940395  B001E4KFG0  A3SGXH7AUHU8GW   \n",
       "1     0.452413     0.038600  B00813GRG4  A1D87F6ZCVE5NK   \n",
       "2     0.098067     0.898704  B000LQOCH0   ABXLMWJIXXAIN   \n",
       "3     0.090219     0.907486  B000UA0QIQ  A395BORC6FGVXV   \n",
       "4     0.010302     0.988063  B006K2ZZ7K  A1UQRSCLF8GW1T   \n",
       "\n",
       "                       ProfileName  HelpfulnessNumerator  \\\n",
       "0                       delmartian                     1   \n",
       "1                           dll pa                     0   \n",
       "2  Natalia Corres \"Natalia Corres\"                     1   \n",
       "3                             Karl                     3   \n",
       "4    Michael D. Bigham \"M. Wassir\"                     0   \n",
       "\n",
       "   HelpfulnessDenominator  Score        Time                Summary  \\\n",
       "0                       1      5  1303862400  Good Quality Dog Food   \n",
       "1                       0      1  1346976000      Not as Advertised   \n",
       "2                       1      4  1219017600  \"Delight\" says it all   \n",
       "3                       3      2  1307923200         Cough Medicine   \n",
       "4                       0      5  1350777600            Great taffy   \n",
       "\n",
       "                                                Text  \n",
       "0  I have bought several of the Vitality canned d...  \n",
       "1  Product arrived labeled as Jumbo Salted Peanut...  \n",
       "2  This is a confection that has been around a fe...  \n",
       "3  If you are looking for the secret ingredient i...  \n",
       "4  Great taffy at a great price.  There was a wid...  "
      ]
     },
     "execution_count": 50,
     "metadata": {},
     "output_type": "execute_result"
    }
   ],
   "source": [
    "results.head()"
   ]
  },
  {
   "cell_type": "markdown",
   "id": "9572b7b9-3673-40ce-a7f4-8d3c727abd39",
   "metadata": {},
   "source": [
    "### Comparing vader and roberta models"
   ]
  },
  {
   "cell_type": "code",
   "execution_count": 48,
   "id": "63e14e3a-ce7f-42d2-9d86-b4e2d9f0b8bc",
   "metadata": {},
   "outputs": [
    {
     "data": {
      "text/plain": [
       "'I purchased it because it was on sale. In terms of the energy it provides, it works, but the taste leaves something to be desired. I tried mixing it with some water to make it more drinkable.'"
      ]
     },
     "execution_count": 48,
     "metadata": {},
     "output_type": "execute_result"
    }
   ],
   "source": [
    "results.query('Score == 3').sort_values('roberta_neu',ascending=False)['Text'].values[0]"
   ]
  },
  {
   "cell_type": "code",
   "execution_count": 53,
   "id": "f73711fc-2959-456a-bf90-280bc48e17da",
   "metadata": {},
   "outputs": [
    {
     "data": {
      "text/plain": [
       "\"This seems a little more wholesome than some of the supermarket brands, but it is somewhat mushy and doesn't have quite as much flavor either.  It didn't pass muster with my kids, so I probably won't buy it again.\""
      ]
     },
     "execution_count": 53,
     "metadata": {},
     "output_type": "execute_result"
    }
   ],
   "source": [
    "results.query('Score == 3').sort_values('vader_neu',ascending=False)['Text'].values[0]"
   ]
  },
  {
   "cell_type": "markdown",
   "id": "59239bbc-24d5-4f75-bc9f-cf04c771e450",
   "metadata": {},
   "source": [
    "### This text seems negative, but vader predicted it as neutral, let's see how roberta does on this text"
   ]
  },
  {
   "cell_type": "code",
   "execution_count": 64,
   "id": "0a32b41c-7f11-453d-b730-ea8fae78523c",
   "metadata": {},
   "outputs": [
    {
     "data": {
      "text/plain": [
       "\"This seems a little more wholesome than some of the supermarket brands, but it is somewhat mushy and doesn't have quite as much flavor either.  It didn't pass muster with my kids, so I probably won't buy it again.\""
      ]
     },
     "execution_count": 64,
     "metadata": {},
     "output_type": "execute_result"
    }
   ],
   "source": [
    "results.iloc[45]['Text']"
   ]
  },
  {
   "cell_type": "code",
   "execution_count": 61,
   "id": "2327910e-f006-4634-8ab9-5ace6499ce95",
   "metadata": {},
   "outputs": [
    {
     "data": {
      "text/plain": [
       "(0.886887788772583, 0.0)"
      ]
     },
     "execution_count": 61,
     "metadata": {},
     "output_type": "execute_result"
    }
   ],
   "source": [
    "results.iloc[45]['roberta_neg'],results.iloc[45]['vader_neg']"
   ]
  },
  {
   "cell_type": "markdown",
   "id": "b9770fbc-bf44-49ae-9af9-29bc249c410b",
   "metadata": {},
   "source": [
    "### Let's look at some examples where score = 5 ( that means the text should probably be positive) and given highest negative amoung the score=5"
   ]
  },
  {
   "cell_type": "code",
   "execution_count": 74,
   "id": "e67bc0ce-fc74-4c07-934b-081f6f8edaf8",
   "metadata": {},
   "outputs": [
    {
     "data": {
      "text/plain": [
       "'this was sooooo deliscious but too bad i ate em too fast and gained 2 pds! my fault'"
      ]
     },
     "execution_count": 74,
     "metadata": {},
     "output_type": "execute_result"
    }
   ],
   "source": [
    "results.query('Score==5').sort_values('vader_neg',ascending=False)['Text'].values[0]"
   ]
  },
  {
   "cell_type": "markdown",
   "id": "47948472-5a57-4e3f-917d-0f41c13c580d",
   "metadata": {},
   "source": [
    "### This has a score=5, the comment does not show any negativity regarding the product, but the sentiment in the comment is actually negative."
   ]
  },
  {
   "cell_type": "code",
   "execution_count": 75,
   "id": "e3c58ead-a76c-4a2f-88b8-5fe01f218fc5",
   "metadata": {},
   "outputs": [
    {
     "data": {
      "text/plain": [
       "0.344"
      ]
     },
     "execution_count": 75,
     "metadata": {},
     "output_type": "execute_result"
    }
   ],
   "source": [
    "results.query('Score==5').sort_values('vader_neg',ascending=False)['vader_neg'][69]"
   ]
  },
  {
   "cell_type": "markdown",
   "id": "977139c4-fb93-4171-86af-b2452215c458",
   "metadata": {},
   "source": [
    "### And Roberta model confidentally predicted this text as negative."
   ]
  },
  {
   "cell_type": "code",
   "execution_count": 76,
   "id": "b64fceec-d3e5-4c04-9755-eeb4b5d30a4c",
   "metadata": {},
   "outputs": [
    {
     "data": {
      "text/plain": [
       "0.9601579308509827"
      ]
     },
     "execution_count": 76,
     "metadata": {},
     "output_type": "execute_result"
    }
   ],
   "source": [
    "results.iloc[69]['roberta_neg']"
   ]
  },
  {
   "cell_type": "markdown",
   "id": "8f99d06f-adb6-4ec7-8ddd-0c9731899001",
   "metadata": {},
   "source": [
    "### Let's look at some examples where score = 1 ( that means the text should probably be negative) and given highest positive amoung the score=1"
   ]
  },
  {
   "cell_type": "code",
   "execution_count": 85,
   "id": "d05a3cfb-0d60-4673-80ea-be85da6de06c",
   "metadata": {},
   "outputs": [
    {
     "data": {
      "text/plain": [
       "'So we cancelled the order.  It was cancelled without any problem.  That is a positive note...'"
      ]
     },
     "execution_count": 85,
     "metadata": {},
     "output_type": "execute_result"
    }
   ],
   "source": [
    "results.query('Score==1').sort_values('vader_pos',ascending=False)['Text'].values[0]"
   ]
  },
  {
   "cell_type": "markdown",
   "id": "37cda776-8fe5-4549-a0fd-871220025b59",
   "metadata": {},
   "source": [
    "### Seems they are being sarcastic but the sentiment seems to be positive"
   ]
  },
  {
   "cell_type": "code",
   "execution_count": 86,
   "id": "2bb5d50b-f033-4994-967f-04376142fb56",
   "metadata": {},
   "outputs": [
    {
     "data": {
      "text/plain": [
       "(0.274, 0.6071789264678955)"
      ]
     },
     "execution_count": 86,
     "metadata": {},
     "output_type": "execute_result"
    }
   ],
   "source": [
    "results.iloc[322]['vader_pos'],results.iloc[322]['roberta_pos']"
   ]
  },
  {
   "cell_type": "code",
   "execution_count": 100,
   "id": "99b3de6c-0554-46fa-82a1-da5760f07b4d",
   "metadata": {},
   "outputs": [
    {
     "data": {
      "text/plain": [
       "'I felt energized within five minutes, but it lasted for about 45 minutes. I paid $3.99 for this drink. I could have just drunk a cup of coffee and saved my money.'"
      ]
     },
     "execution_count": 100,
     "metadata": {},
     "output_type": "execute_result"
    }
   ],
   "source": [
    "results.query('Score==1').sort_values('roberta_pos',ascending=False)['Text'].values[0]"
   ]
  },
  {
   "cell_type": "code",
   "execution_count": 95,
   "id": "5ed7e374-504a-4dbe-87ee-5c9304a9be24",
   "metadata": {},
   "outputs": [
    {
     "data": {
      "text/plain": [
       "'So we cancelled the order.  It was cancelled without any problem.  That is a positive note...'"
      ]
     },
     "execution_count": 95,
     "metadata": {},
     "output_type": "execute_result"
    }
   ],
   "source": [
    "results.query('Score==1').sort_values('vader_pos',ascending=False)['Text'].values[0]"
   ]
  },
  {
   "cell_type": "code",
   "execution_count": 90,
   "id": "70ff181c-be12-46aa-a4dd-13e170eba5fe",
   "metadata": {},
   "outputs": [
    {
     "data": {
      "text/plain": [
       "'This is an great product. The taste is great, and it works exactly as described. Superb natural sleep aid. AMAZING!'"
      ]
     },
     "execution_count": 90,
     "metadata": {},
     "output_type": "execute_result"
    }
   ],
   "source": [
    "results.query('Score==5').sort_values('vader_pos',ascending=False)['Text'].values[0]"
   ]
  },
  {
   "cell_type": "code",
   "execution_count": 94,
   "id": "e2b73fa7-058a-4834-935b-89598a799b76",
   "metadata": {},
   "outputs": [
    {
     "data": {
      "text/plain": [
       "\"These are my favorite bars ever. The combo of raisons and dark choc is wonderful! Very filling! These are hard to find in the stores. I'm thankful for subsrcibe and save!\""
      ]
     },
     "execution_count": 94,
     "metadata": {},
     "output_type": "execute_result"
    }
   ],
   "source": [
    "results.query('Score==5').sort_values('roberta_pos',ascending=False)['Text'].values[0]"
   ]
  },
  {
   "cell_type": "code",
   "execution_count": null,
   "id": "9e1667da-336d-4950-af56-df9176da938f",
   "metadata": {},
   "outputs": [],
   "source": []
  }
 ],
 "metadata": {
  "kernelspec": {
   "display_name": "Python 3 (ipykernel)",
   "language": "python",
   "name": "python3"
  },
  "language_info": {
   "codemirror_mode": {
    "name": "ipython",
    "version": 3
   },
   "file_extension": ".py",
   "mimetype": "text/x-python",
   "name": "python",
   "nbconvert_exporter": "python",
   "pygments_lexer": "ipython3",
   "version": "3.9.13"
  }
 },
 "nbformat": 4,
 "nbformat_minor": 5
}
